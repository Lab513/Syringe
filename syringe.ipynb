{
 "cells": [
  {
   "cell_type": "markdown",
   "metadata": {},
   "source": [
    "### PHD ULTRA , Syringe Pump Series"
   ]
  },
  {
   "cell_type": "code",
   "execution_count": 1,
   "metadata": {},
   "outputs": [],
   "source": [
    "from phd_ultra import SYRINGE"
   ]
  },
  {
   "cell_type": "code",
   "execution_count": 2,
   "metadata": {},
   "outputs": [],
   "source": [
    "sy = SYRINGE()"
   ]
  },
  {
   "cell_type": "markdown",
   "metadata": {},
   "source": [
    "# set the parameters"
   ]
  },
  {
   "cell_type": "markdown",
   "metadata": {},
   "source": [
    "direction='INF'or 'WD'  \n",
    "diam=11.99,  \n",
    "syr_vol=500,  \n",
    "targ_vol=500,  \n",
    "targ_time=None,  \n",
    "vol_unit='ml',  \n",
    "flow_rate=50,  \n",
    "flow_rate_unit='m/h',  \n",
    "force=90  "
   ]
  },
  {
   "cell_type": "code",
   "execution_count": 23,
   "metadata": {
    "scrolled": true
   },
   "outputs": [
    {
     "name": "stdout",
     "output_type": "stream",
     "text": [
      "syringe diameter set to 2.7 mm\n",
      "syringe volume set to 350 ml\n",
      "target volume set to 10 ml\n",
      "withdraw @ 0.6 m/s\n",
      "Expected time is 0.28 min\n"
     ]
    }
   ],
   "source": [
    "sy.set_params( direction='WD', # INF\n",
    "               diam=2.7,\n",
    "               syr_vol=350,\n",
    "               targ_vol=10,\n",
    "               targ_time=None,\n",
    "               vol_unit='ml',\n",
    "               flow_rate=0.6,\n",
    "               flow_rate_unit='m/m', # m/h, m/m, u/s\n",
    "               force=80)"
   ]
  },
  {
   "cell_type": "code",
   "execution_count": 24,
   "metadata": {},
   "outputs": [
    {
     "name": "stdout",
     "output_type": "stream",
     "text": [
      "Withdrawing\n"
     ]
    }
   ],
   "source": [
    "sy.run()"
   ]
  },
  {
   "cell_type": "code",
   "execution_count": 25,
   "metadata": {},
   "outputs": [],
   "source": [
    "sy.stop()"
   ]
  },
  {
   "cell_type": "code",
   "execution_count": null,
   "metadata": {},
   "outputs": [],
   "source": []
  }
 ],
 "metadata": {
  "kernelspec": {
   "display_name": "Python 3",
   "language": "python",
   "name": "python3"
  },
  "language_info": {
   "codemirror_mode": {
    "name": "ipython",
    "version": 3
   },
   "file_extension": ".py",
   "mimetype": "text/x-python",
   "name": "python",
   "nbconvert_exporter": "python",
   "pygments_lexer": "ipython3",
   "version": "3.8.5"
  }
 },
 "nbformat": 4,
 "nbformat_minor": 4
}
